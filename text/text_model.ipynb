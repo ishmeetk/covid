{
  "nbformat": 4,
  "nbformat_minor": 0,
  "metadata": {
    "colab": {
      "name": "text_model.ipynb",
      "provenance": [],
      "collapsed_sections": [],
      "toc_visible": true
    },
    "kernelspec": {
      "name": "python3",
      "display_name": "Python 3"
    },
    "accelerator": "GPU"
  },
  "cells": [
    {
      "cell_type": "markdown",
      "metadata": {
        "id": "fem0VR33G5LH",
        "colab_type": "text"
      },
      "source": [
        "Importing libraries and train data from google drive"
      ]
    },
    {
      "cell_type": "code",
      "metadata": {
        "id": "tGDXmrWmYSkr",
        "colab_type": "code",
        "colab": {
          "base_uri": "https://localhost:8080/",
          "height": 139
        },
        "outputId": "aade2bfe-86e2-49a0-9117-cd5206d722f8"
      },
      "source": [
        "import pandas as pd\n",
        "import pickle\n",
        "import numpy as np\n",
        "\n",
        "from sklearn.metrics import accuracy_score\n",
        "from sklearn.preprocessing import LabelEncoder\n",
        "from sklearn.model_selection import train_test_split\n",
        "from sklearn.svm import SVC\n",
        "from sklearn.ensemble import RandomForestClassifier\n",
        "from sklearn.naive_bayes import GaussianNB\n",
        "from sklearn.tree import DecisionTreeClassifier\n",
        "from sklearn.neighbors import KNeighborsClassifier\n",
        "from sklearn.metrics import classification_report\n",
        "from sklearn.metrics import confusion_matrix, plot_confusion_matrix\n",
        "from sklearn.neural_network import MLPClassifier\n",
        "from imblearn.over_sampling import *\n",
        "from sklearn.svm import SVC\n",
        "\n",
        "import math\n",
        "from datetime import datetime\n",
        "\n",
        "import seaborn as sns\n",
        "import matplotlib.pyplot as plt\n",
        "\n"
      ],
      "execution_count": null,
      "outputs": [
        {
          "output_type": "stream",
          "text": [
            "/usr/local/lib/python3.6/dist-packages/sklearn/externals/six.py:31: FutureWarning: The module is deprecated in version 0.21 and will be removed in version 0.23 since we've dropped support for Python 2.7. Please rely on the official version of six (https://pypi.org/project/six/).\n",
            "  \"(https://pypi.org/project/six/).\", FutureWarning)\n",
            "/usr/local/lib/python3.6/dist-packages/sklearn/utils/deprecation.py:144: FutureWarning: The sklearn.neighbors.base module is  deprecated in version 0.22 and will be removed in version 0.24. The corresponding classes / functions should instead be imported from sklearn.neighbors. Anything that cannot be imported from sklearn.neighbors is now part of the private API.\n",
            "  warnings.warn(message, FutureWarning)\n",
            "/usr/local/lib/python3.6/dist-packages/statsmodels/tools/_testing.py:19: FutureWarning: pandas.util.testing is deprecated. Use the functions in the public API at pandas.testing instead.\n",
            "  import pandas.util.testing as tm\n"
          ],
          "name": "stderr"
        }
      ]
    },
    {
      "cell_type": "code",
      "metadata": {
        "id": "EqeuObfn9B50",
        "colab_type": "code",
        "colab": {
          "base_uri": "https://localhost:8080/",
          "height": 300
        },
        "outputId": "500076a6-98c3-4506-d910-e3257b970710"
      },
      "source": [
        "from google.colab import drive\n",
        "drive.mount('/content/drive/virufy/developers/text/data')"
      ],
      "execution_count": null,
      "outputs": [
        {
          "output_type": "error",
          "ename": "ValueError",
          "evalue": "ignored",
          "traceback": [
            "\u001b[0;31m---------------------------------------------------------------------------\u001b[0m",
            "\u001b[0;31mValueError\u001b[0m                                Traceback (most recent call last)",
            "\u001b[0;32m<ipython-input-13-753b4efee499>\u001b[0m in \u001b[0;36m<module>\u001b[0;34m()\u001b[0m\n\u001b[1;32m      1\u001b[0m \u001b[0;32mfrom\u001b[0m \u001b[0mgoogle\u001b[0m\u001b[0;34m.\u001b[0m\u001b[0mcolab\u001b[0m \u001b[0;32mimport\u001b[0m \u001b[0mdrive\u001b[0m\u001b[0;34m\u001b[0m\u001b[0;34m\u001b[0m\u001b[0m\n\u001b[0;32m----> 2\u001b[0;31m \u001b[0mdrive\u001b[0m\u001b[0;34m.\u001b[0m\u001b[0mmount\u001b[0m\u001b[0;34m(\u001b[0m\u001b[0;34m'/content/drive/virufy/developers/text/data'\u001b[0m\u001b[0;34m)\u001b[0m\u001b[0;34m\u001b[0m\u001b[0;34m\u001b[0m\u001b[0m\n\u001b[0m",
            "\u001b[0;32m/usr/local/lib/python3.6/dist-packages/google/colab/drive.py\u001b[0m in \u001b[0;36mmount\u001b[0;34m(mountpoint, force_remount, timeout_ms, use_metadata_server)\u001b[0m\n\u001b[1;32m    156\u001b[0m     \u001b[0mnormed\u001b[0m \u001b[0;34m=\u001b[0m \u001b[0m_os\u001b[0m\u001b[0;34m.\u001b[0m\u001b[0mpath\u001b[0m\u001b[0;34m.\u001b[0m\u001b[0mnormpath\u001b[0m\u001b[0;34m(\u001b[0m\u001b[0mmountpoint\u001b[0m\u001b[0;34m)\u001b[0m\u001b[0;34m\u001b[0m\u001b[0;34m\u001b[0m\u001b[0m\n\u001b[1;32m    157\u001b[0m     \u001b[0;32mif\u001b[0m \u001b[0;34m'/'\u001b[0m \u001b[0;32min\u001b[0m \u001b[0mnormed\u001b[0m \u001b[0;32mand\u001b[0m \u001b[0;32mnot\u001b[0m \u001b[0m_os\u001b[0m\u001b[0;34m.\u001b[0m\u001b[0mpath\u001b[0m\u001b[0;34m.\u001b[0m\u001b[0mexists\u001b[0m\u001b[0;34m(\u001b[0m\u001b[0m_os\u001b[0m\u001b[0;34m.\u001b[0m\u001b[0mpath\u001b[0m\u001b[0;34m.\u001b[0m\u001b[0mdirname\u001b[0m\u001b[0;34m(\u001b[0m\u001b[0mnormed\u001b[0m\u001b[0;34m)\u001b[0m\u001b[0;34m)\u001b[0m\u001b[0;34m:\u001b[0m\u001b[0;34m\u001b[0m\u001b[0;34m\u001b[0m\u001b[0m\n\u001b[0;32m--> 158\u001b[0;31m       \u001b[0;32mraise\u001b[0m \u001b[0mValueError\u001b[0m\u001b[0;34m(\u001b[0m\u001b[0;34m'Mountpoint must be in a directory that exists'\u001b[0m\u001b[0;34m)\u001b[0m\u001b[0;34m\u001b[0m\u001b[0;34m\u001b[0m\u001b[0m\n\u001b[0m\u001b[1;32m    159\u001b[0m   \u001b[0;32mexcept\u001b[0m\u001b[0;34m:\u001b[0m\u001b[0;34m\u001b[0m\u001b[0;34m\u001b[0m\u001b[0m\n\u001b[1;32m    160\u001b[0m     \u001b[0md\u001b[0m\u001b[0;34m.\u001b[0m\u001b[0mkill\u001b[0m\u001b[0;34m(\u001b[0m\u001b[0m_signal\u001b[0m\u001b[0;34m.\u001b[0m\u001b[0mSIGKILL\u001b[0m\u001b[0;34m)\u001b[0m\u001b[0;34m\u001b[0m\u001b[0;34m\u001b[0m\u001b[0m\n",
            "\u001b[0;31mValueError\u001b[0m: Mountpoint must be in a directory that exists"
          ]
        }
      ]
    },
    {
      "cell_type": "markdown",
      "metadata": {
        "id": "siEXDAFxjmfl",
        "colab_type": "text"
      },
      "source": [
        "# **Main class**"
      ]
    },
    {
      "cell_type": "code",
      "metadata": {
        "id": "L2f4N-5Oe8-K",
        "colab_type": "code",
        "colab": {}
      },
      "source": [
        "class Text():\n",
        "  \"\"\"\n",
        "  This is a class for training , preprcoessing data and testing the text model data using testData provided\n",
        "  \"\"\"\n",
        "\n",
        "  \"\"\"\n",
        "  def __init__(self, trainData, testData):\n",
        "    self.trainData = trainData\n",
        "    self.testData = testData\n",
        "  \"\"\"\n",
        "\n",
        "  def preProcessing(self,inFile):\n",
        "    \"\"\"\n",
        "    Preprocess the input file to the standard format. \n",
        "    Parameter:\n",
        "      inFile: string containing the input file name in .csv format\n",
        "    Returns: target labels value (in 1 or 0) and preprocessed dataframe \n",
        "    \"\"\"\n",
        "    labels_f = inFile\n",
        "    labels_df = pd.read_csv(labels_f)\n",
        "    #dropping the columns unrealted to the text model\n",
        "    labels_df = labels_df.drop(columns=[\"date\", \"cough_filename\"])\n",
        "\n",
        "    #removing the columns which does not contain the information on covid tests\n",
        "    labels_df[\"corona_test\"].fillna(\"None\", inplace = True) \n",
        "    labels_df = labels_df.drop(labels_df[labels_df.corona_test == \"None\"].index)\n",
        "\n",
        "    #replacing the empty values with None\n",
        "    labels_df [\"smoker\"].fillna(\"None\", inplace = True) \n",
        "    labels_df [\"patient_reported_symptoms\"].fillna(\"None\", inplace = True)\n",
        "    labels_df ['age'].fillna(\"None\", inplace = True)\n",
        "    labels_df ['gender'].fillna(\"None\", inplace = True)\n",
        "    labels_df ['medical_history'].fillna(\"None\", inplace = True)\n",
        "\n",
        "\n",
        "    #CORONA_TEST\n",
        "    newdf= labels_df.replace(to_replace =\"negative\", \n",
        "                    value =0)\n",
        "    newdf = newdf.replace(to_replace =\"positive\", \n",
        "                    value =1)\n",
        "    newdf= newdf.replace(to_replace =\"FALSE\", \n",
        "                    value =0)\n",
        "    newdf = newdf.replace(to_replace =\"TRUE\", \n",
        "                    value =1)\n",
        "\n",
        "    #AGE\n",
        "    newdf['age'] = LabelEncoder().fit_transform(newdf['age'])\n",
        "\n",
        "    #Gender\n",
        "    newdf['gender'] = newdf['gender'].str.lower()\n",
        "    newdf['gender'] = LabelEncoder().fit_transform(newdf['gender'])\n",
        "\n",
        "    #medical_history\n",
        "    newdf[\"medical_history\"] = newdf[\"medical_history\"].str.lower()\n",
        "    med_history = ['None', 'Congestive heart failure','Disease or conditions that make it harder to cough,' \\\n",
        "                        'Asthma or chronic lung disease','pregnancy,', 'Diabetes with complications']\n",
        "        \n",
        "    for mh in med_history:\n",
        "        newdf[mh] = newdf.medical_history.str.contains(mh).astype(int)\n",
        "        newdf[\"medical_history\"] = newdf.medical_history.str.replace(mh+ \",\", \"\")\n",
        "\n",
        "    newdf = newdf.drop(columns = [\"medical_history\"])\n",
        "\n",
        "    #smoker\n",
        "    newdf['smoker'] = LabelEncoder().fit_transform(newdf['smoker'])\n",
        "\n",
        "    #symptoms\n",
        "    newdf['patient_reported_symptoms'] = newdf['patient_reported_symptoms'].str.lower()\n",
        "\n",
        "    symptoms = ['Fever, chills, or sweating', 'Shortness of breath', \\\n",
        "                      'New or worsening cough','Sore throat', 'Body aches', \\\n",
        "                      'Loss of taste', 'Loss of smell', 'None']\n",
        "    for ps in symptoms:\n",
        "        newdf[ps] = newdf.patient_reported_symptoms.str.contains(ps).astype(int)\n",
        "        newdf[\"patient_reported_symptoms\"] = newdf.patient_reported_symptoms.str.replace(ps+ \",\", \"\")\n",
        "\n",
        "    newdf = newdf.drop(columns = [\"patient_reported_symptoms\"])\n",
        "\n",
        "    target_labels = newdf[\"corona_test\"] \n",
        "    newdf = newdf.drop(columns = [\"corona_test\"])\n",
        "\n",
        "    return target_labels, newdf\n",
        "\n",
        "\n",
        "  def prepDataTrain(self, trainData):\n",
        "    \"\"\"\n",
        "    Prepare data for text model\n",
        "    Returns: \n",
        "      x_train, y_train is the train data prepared\n",
        "    \"\"\"\n",
        "    targetLabels, processedDf = self.preProcessing(trainData)\n",
        "    x_train_orig, x_test, y_train_orig, y_test = train_test_split(processedDf,targetLabels, test_size=0.15, shuffle=True)\n",
        "    x_train, y_train = SMOTE(sampling_strategy='minority').fit_resample(x_train_orig, y_train_orig)\n",
        "    return x_train, y_train, x_test, y_test\n",
        "\n",
        "  def trainModel(self, trainData):\n",
        "    \"\"\"\n",
        "    Trains the text model using the trainData \n",
        "    Returns:\n",
        "      a string containing saved model of form .sav\n",
        "    \"\"\"\n",
        "    X_train, y_train, x_test, y_test = self.prepDataTrain(trainData)\n",
        "    clf = SVC(kernel = \"linear\",C=1, degree = 2, gamma=0.001,random_state=0)\n",
        "    clf.fit(X_train,y_train)\n",
        "\n",
        "    print(\"\\nTraining:\")\n",
        "    print(\"Accuracy: \",end=\"\")\n",
        "    pred = clf.predict(X_train)\n",
        "    accuracy = accuracy_score(y_train, pred)\n",
        "    print(accuracy)\n",
        "    conf_mat = confusion_matrix(y_train, pred)\n",
        "    print(conf_mat)\n",
        "    print(\"\\nTesting:\")\n",
        "    print(\"Accuracy: \",end=\"\")\n",
        "    pred = clf.predict(x_test)\n",
        "    accuracy = accuracy_score(y_test, pred)\n",
        "    print(accuracy)\n",
        "    conf_mat = confusion_matrix(y_test, pred)\n",
        "    print(conf_mat)\n",
        "    print(classification_report(y_test, pred))\n",
        "    print(\"\\n\\n\")\n",
        "\n",
        "    filename = 'textModelSVC.sav'\n",
        "    pickle.dump(clf, open(filename, 'wb'))\n",
        "\n",
        "    return filename\n",
        "  \n",
        "\n",
        "  def prepDataTest(self, testData):\n",
        "    \"\"\"\n",
        "    Prepare data for text model\n",
        "    Returns: \n",
        "      targetLabels, processedDf is the test data prepared for model\n",
        "    \"\"\"\n",
        "    targetLabels, processedDf = self.preProcessing(testData)\n",
        "    return targetLabels, processedDf\n",
        "\n",
        "  def predict(self, testData, modelFile):\n",
        "    \"\"\"\n",
        "    Predict for covid positive or negative using the saved model \n",
        "    Returns: \n",
        "      bool value depecting positive and negative covid results \n",
        "    \"\"\"\n",
        "    y_test, x_test,  = self.prepDataTest(testData)\n",
        "    loaded_model = pickle.load(open(modelFile, 'rb'))\n",
        "    pred = loaded_model.predict(x_test)\n",
        "    print(pred)\n",
        "    accuracy = accuracy_score(y_test,pred)\n",
        "    print(\"Accuracy on test dataset : \", accuracy)\n",
        "    conf_mat = confusion_matrix(y_test,pred)\n",
        "    print(\"Confusion matrix :\\n\", conf_mat)\n",
        "    print(\"Classification report \\n\", classification_report(y_test, pred))\n",
        "    return pred"
      ],
      "execution_count": 40,
      "outputs": []
    },
    {
      "cell_type": "code",
      "metadata": {
        "id": "JN0WBNiNsywd",
        "colab_type": "code",
        "colab": {
          "base_uri": "https://localhost:8080/",
          "height": 700
        },
        "outputId": "0879283a-99c6-4f66-f8b8-8889c2465f49"
      },
      "source": [
        "if __name__ == \"__main__\":\n",
        "  #training\n",
        "  eq = Text()\n",
        "  trainData = \"trainText.csv\"\n",
        "  testData = \"testText.csv\"\n",
        "  modelFile = eq.trainModel(trainData)\n",
        "  #prediction \n",
        "  test_eq = eq.predict(testData,modelFile)\n"
      ],
      "execution_count": 42,
      "outputs": [
        {
          "output_type": "stream",
          "text": [
            "\n",
            "Training:\n",
            "Accuracy: 0.7880658436213992\n",
            "[[388  98]\n",
            " [108 378]]\n",
            "\n",
            "Testing:\n",
            "Accuracy: 0.8602150537634409\n",
            "[[72 13]\n",
            " [ 0  8]]\n",
            "              precision    recall  f1-score   support\n",
            "\n",
            "           0       1.00      0.85      0.92        85\n",
            "           1       0.38      1.00      0.55         8\n",
            "\n",
            "    accuracy                           0.86        93\n",
            "   macro avg       0.69      0.92      0.73        93\n",
            "weighted avg       0.95      0.86      0.89        93\n",
            "\n",
            "\n",
            "\n",
            "\n",
            "[0 1 0 0 0 1 1 1 1 1 1 1 1 1 1]\n",
            "Accuracy on test dataset :  0.4666666666666667\n",
            "Confusion matrix :\n",
            " [[4 8]\n",
            " [0 3]]\n",
            "Classification report \n",
            "               precision    recall  f1-score   support\n",
            "\n",
            "           0       1.00      0.33      0.50        12\n",
            "           1       0.27      1.00      0.43         3\n",
            "\n",
            "    accuracy                           0.47        15\n",
            "   macro avg       0.64      0.67      0.46        15\n",
            "weighted avg       0.85      0.47      0.49        15\n",
            "\n"
          ],
          "name": "stdout"
        },
        {
          "output_type": "stream",
          "text": [
            "/usr/local/lib/python3.6/dist-packages/sklearn/utils/deprecation.py:87: FutureWarning: Function safe_indexing is deprecated; safe_indexing is deprecated in version 0.22 and will be removed in version 0.24.\n",
            "  warnings.warn(msg, category=FutureWarning)\n"
          ],
          "name": "stderr"
        }
      ]
    },
    {
      "cell_type": "markdown",
      "metadata": {
        "id": "967bW145ukP9",
        "colab_type": "text"
      },
      "source": [
        "# Ensemble"
      ]
    },
    {
      "cell_type": "code",
      "metadata": {
        "id": "uoWMUIuOuoGb",
        "colab_type": "code",
        "colab": {
          "base_uri": "https://localhost:8080/",
          "height": 700
        },
        "outputId": "ca2d373a-d7e4-4379-8153-02a85529aceb"
      },
      "source": [
        "if __name__ == \"__main__\":\n",
        "  text = Text()\n",
        "  textModel = text.trainModel(\"trainText.csv\")\n",
        "  prediction = text.predict(\"testText.csv\",textModel)\n",
        "  "
      ],
      "execution_count": 44,
      "outputs": [
        {
          "output_type": "stream",
          "text": [
            "\n",
            "Training:\n",
            "Accuracy: 0.8167701863354038\n",
            "[[392  91]\n",
            " [ 86 397]]\n",
            "\n",
            "Testing:\n",
            "Accuracy: 0.7849462365591398\n",
            "[[68 20]\n",
            " [ 0  5]]\n",
            "              precision    recall  f1-score   support\n",
            "\n",
            "           0       1.00      0.77      0.87        88\n",
            "           1       0.20      1.00      0.33         5\n",
            "\n",
            "    accuracy                           0.78        93\n",
            "   macro avg       0.60      0.89      0.60        93\n",
            "weighted avg       0.96      0.78      0.84        93\n",
            "\n",
            "\n",
            "\n",
            "\n",
            "[0 1 0 0 0 1 1 1 1 1 1 1 1 1 1]\n",
            "Accuracy on test dataset :  0.4666666666666667\n",
            "Confusion matrix :\n",
            " [[4 8]\n",
            " [0 3]]\n",
            "Classification report \n",
            "               precision    recall  f1-score   support\n",
            "\n",
            "           0       1.00      0.33      0.50        12\n",
            "           1       0.27      1.00      0.43         3\n",
            "\n",
            "    accuracy                           0.47        15\n",
            "   macro avg       0.64      0.67      0.46        15\n",
            "weighted avg       0.85      0.47      0.49        15\n",
            "\n"
          ],
          "name": "stdout"
        },
        {
          "output_type": "stream",
          "text": [
            "/usr/local/lib/python3.6/dist-packages/sklearn/utils/deprecation.py:87: FutureWarning: Function safe_indexing is deprecated; safe_indexing is deprecated in version 0.22 and will be removed in version 0.24.\n",
            "  warnings.warn(msg, category=FutureWarning)\n"
          ],
          "name": "stderr"
        }
      ]
    }
  ]
}