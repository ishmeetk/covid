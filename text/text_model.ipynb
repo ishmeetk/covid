{
  "nbformat": 4,
  "nbformat_minor": 0,
  "metadata": {
    "colab": {
      "name": "text_model.ipynb",
      "provenance": [],
      "collapsed_sections": []
    },
    "kernelspec": {
      "name": "python3",
      "display_name": "Python 3"
    },
    "accelerator": "GPU"
  },
  "cells": [
    {
      "cell_type": "markdown",
      "metadata": {
        "id": "fem0VR33G5LH",
        "colab_type": "text"
      },
      "source": [
        "Importing libraries and train data from google drive"
      ]
    },
    {
      "cell_type": "code",
      "metadata": {
        "id": "tGDXmrWmYSkr",
        "colab_type": "code",
        "colab": {}
      },
      "source": [
        "import pandas as pd\n",
        "import pickle\n",
        "import numpy as np\n",
        "\n",
        "from sklearn.metrics import accuracy_score\n",
        "from sklearn.preprocessing import LabelEncoder\n",
        "from sklearn.model_selection import train_test_split\n",
        "from sklearn.svm import SVC\n",
        "from sklearn.ensemble import RandomForestClassifier\n",
        "from sklearn.naive_bayes import GaussianNB\n",
        "from sklearn.tree import DecisionTreeClassifier\n",
        "from sklearn.neighbors import KNeighborsClassifier\n",
        "from sklearn.metrics import classification_report\n",
        "from sklearn.metrics import confusion_matrix, plot_confusion_matrix\n",
        "from sklearn.neural_network import MLPClassifier\n",
        "from imblearn.over_sampling import *\n",
        "from sklearn.svm import SVC\n",
        "\n",
        "import math\n",
        "from datetime import datetime\n",
        "\n",
        "import seaborn as sns\n",
        "import matplotlib.pyplot as plt\n",
        "\n"
      ],
      "execution_count": null,
      "outputs": []
    },
    {
      "cell_type": "code",
      "metadata": {
        "id": "EqeuObfn9B50",
        "colab_type": "code",
        "colab": {}
      },
      "source": [
        "from google.colab import drive\n",
        "drive.mount('/content/drive/virufy/developers/text/data')"
      ],
      "execution_count": null,
      "outputs": []
    },
    {
      "cell_type": "markdown",
      "metadata": {
        "id": "siEXDAFxjmfl",
        "colab_type": "text"
      },
      "source": [
        "# **Main class**"
      ]
    },
    {
      "cell_type": "code",
      "metadata": {
        "id": "L2f4N-5Oe8-K",
        "colab_type": "code",
        "colab": {}
      },
      "source": [
        "class Text():\n",
        "  \"\"\"\n",
        "  This is a class for training , preprcoessing data and testing the text model data using testData provided\n",
        "  Attributes: \n",
        "  testData : string in the form .csv file containg training data.\n",
        "  \"\"\"\n",
        "  def __init__(self, trainData, testData):\n",
        "    self.trainData = trainData\n",
        "    self.testData = testData\n",
        "\n",
        "  def preProcessing(self,inFile):\n",
        "    \"\"\"\n",
        "    Preprocess the input file to the standard format. \n",
        "    Parameter:\n",
        "      inFile: string containing the input file name in .csv format\n",
        "    Returns: target labels value (in 1 or 0) and preprocessed dataframe \n",
        "    \"\"\"\n",
        "    labels_f = 'trainText.csv'\n",
        "    labels_df = pd.read_csv(labels_f)\n",
        "    #dropping the columns unrealted to the text model\n",
        "    labels_df = labels_df.drop(columns=[\"date\", \"cough_filename\", 'Unnamed: 8'])\n",
        "\n",
        "    #removing the columns which does not contain the information on covid tests\n",
        "    labels_df[\"corona_test\"].fillna(\"None\", inplace = True) \n",
        "    labels_df = labels_df.drop(labels_df[labels_df.corona_test == \"None\"].index)\n",
        "\n",
        "    #replacing the empty values with None\n",
        "    labels_df [\"smoker\"].fillna(\"None\", inplace = True) \n",
        "    labels_df [\"patient_reported_symptoms\"].fillna(\"None\", inplace = True)\n",
        "    labels_df ['age'].fillna(\"None\", inplace = True)\n",
        "    labels_df ['gender'].fillna(\"None\", inplace = True)\n",
        "    labels_df ['medical_history'].fillna(\"None\", inplace = True)\n",
        "\n",
        "\n",
        "    #CORONA_TEST\n",
        "    newdf= labels_df.replace(to_replace =\"negative\", \n",
        "                    value =0)\n",
        "    newdf = newdf.replace(to_replace =\"positive\", \n",
        "                    value =1)\n",
        "    newdf= newdf.replace(to_replace =\"FALSE\", \n",
        "                    value =0)\n",
        "    newdf = newdf.replace(to_replace =\"TRUE\", \n",
        "                    value =1)\n",
        "\n",
        "    #AGE\n",
        "    newdf['age'] = LabelEncoder().fit_transform(newdf['age'])\n",
        "\n",
        "    #Gender\n",
        "    newdf['gender'] = newdf['gender'].str.lower()\n",
        "    newdf['gender'] = LabelEncoder().fit_transform(newdf['gender'])\n",
        "\n",
        "    #medical_history\n",
        "    newdf[\"medical_history\"] = newdf[\"medical_history\"].str.lower()\n",
        "    med_history = ['None', 'Congestive heart failure','Disease or conditions that make it harder to cough,' \\\n",
        "                        'Asthma or chronic lung disease','pregnancy,', 'Diabetes with complications']\n",
        "        \n",
        "    for mh in med_history:\n",
        "        newdf[mh] = newdf.medical_history.str.contains(mh).astype(int)\n",
        "        newdf[\"medical_history\"] = newdf.medical_history.str.replace(mh+ \",\", \"\")\n",
        "\n",
        "    newdf = newdf.drop(columns = [\"medical_history\"])\n",
        "\n",
        "    #smoker\n",
        "    newdf['smoker'] = LabelEncoder().fit_transform(newdf['smoker'])\n",
        "\n",
        "    #symptoms\n",
        "    newdf['patient_reported_symptoms'] = newdf['patient_reported_symptoms'].str.lower()\n",
        "\n",
        "    symptoms = ['Fever, chills, or sweating', 'Shortness of breath', \\\n",
        "                      'New or worsening cough','Sore throat', 'Body aches', \\\n",
        "                      'Loss of taste', 'Loss of smell', 'None']\n",
        "    for ps in symptoms:\n",
        "        newdf[ps] = newdf.patient_reported_symptoms.str.contains(ps).astype(int)\n",
        "        newdf[\"patient_reported_symptoms\"] = newdf.patient_reported_symptoms.str.replace(ps+ \",\", \"\")\n",
        "\n",
        "    newdf = newdf.drop(columns = [\"patient_reported_symptoms\"])\n",
        "\n",
        "    target_labels = newdf[\"corona_test\"] \n",
        "    newdf = newdf.drop(columns = [\"corona_test\"])\n",
        "\n",
        "    return target_labels,newdf\n",
        "\n",
        "\n",
        "  def prepDataTrain(self):\n",
        "    \"\"\"\n",
        "    Prepare data for text model\n",
        "    Returns: \n",
        "      x_train, y_train is the train data prepared\n",
        "    \"\"\"\n",
        "    targetLabels, processedDf = self.preProcessing(self.trainData)\n",
        "    x_train_orig, x_test, y_train_orig, y_test = train_test_split(processedDf,targetLabels, test_size=0.15, shuffle=True)\n",
        "    x_train, y_train = SMOTE(sampling_strategy='minority').fit_resample(x_train_orig, y_train_orig)\n",
        "    return x_train, y_train, x_test, y_test\n",
        "\n",
        "  def trainModel(self):\n",
        "    \"\"\"\n",
        "    Trains the text model using the trainData \n",
        "    Returns:\n",
        "      a string comting saved model of form .sav\n",
        "    \"\"\"\n",
        "    X_train,y_train,x_test, y_test = self.prepDataTrain()\n",
        "    clf = SVC(kernel = \"linear\",C=1, degree = 2, gamma=0.001,random_state=0)\n",
        "    clf.fit(X_train,y_train)\n",
        "\n",
        "    print(\"\\nTraining:\")\n",
        "    print(\"Accuracy: \",end=\"\")\n",
        "    pred = clf.predict(X_train)\n",
        "    accuracy = accuracy_score(y_train, pred)\n",
        "    print(accuracy)\n",
        "    conf_mat = confusion_matrix(y_train, pred)\n",
        "    print(conf_mat)\n",
        "    print(\"\\nTesting:\")\n",
        "    print(\"Accuracy: \",end=\"\")\n",
        "    pred = clf.predict(x_test)\n",
        "    accuracy = accuracy_score(y_test, pred)\n",
        "    print(accuracy)\n",
        "    conf_mat = confusion_matrix(y_test, pred)\n",
        "    print(conf_mat)\n",
        "    print(classification_report(y_test, pred))\n",
        "    print(\"\\n\\n\")\n",
        "\n",
        "    filename = 'textModelSVC.sav'\n",
        "    pickle.dump(clf, open(filename, 'wb'))\n",
        "\n",
        "    return filename\n",
        "  \n",
        "\n",
        "  def prepDataTest(self):\n",
        "    \"\"\"\n",
        "    Prepare data for text model\n",
        "    Returns: \n",
        "      targetLabels, processedDf is the test data prepared for model\n",
        "    \"\"\"\n",
        "    targetLabels, processedDf = self.preProcessing(self.trainData)\n",
        "    return targetLabels, processedDf\n",
        "\n",
        "  def predict(self,modelFile):\n",
        "    \"\"\"\n",
        "    Predict for covid positive or negative using the saved model \n",
        "    Returns: \n",
        "      bool value depecting positive and negative covid results \n",
        "    \"\"\"\n",
        "    y_test, x_test,  = self.prepDataTest()\n",
        "    loaded_model = pickle.load(open(modelfile, 'rb'))\n",
        "    pred = loaded_model.predict(x_test)\n",
        "    print(pred)\n",
        "    accuracy = accuracy_score(y_test,pred)\n",
        "    print(\"Accuracy on test dataset : \", accuracy)\n",
        "    conf_mat = confusion_matrix(y_test,pred)\n",
        "    print(\"Confusion matrix :\\n\", conf_mat)\n",
        "    print(\"Classification report \\n\", classification_report(y_test, pred))\n",
        "    return pred"
      ],
      "execution_count": 11,
      "outputs": []
    },
    {
      "cell_type": "code",
      "metadata": {
        "id": "wtISTxLXtSdv",
        "colab_type": "code",
        "colab": {}
      },
      "source": [
        "#text_fp = '/content/drive/My Drive/virufy/developers/text/data/text-50.csv'\n",
        "#text_model_save_fp = '/content/drive/My Drive/virufy/developers/text/models/text-model.csv'\n",
        "#test_fp = \"testTrain.csv\"\n",
        "#train_fp = \"tarinText.csv\"\n",
        "#if __name__ == \"__main__\":\n",
        "#  from google.colab import drive\n",
        "#  drive.mount('/content/drive')"
      ],
      "execution_count": null,
      "outputs": []
    },
    {
      "cell_type": "code",
      "metadata": {
        "id": "JN0WBNiNsywd",
        "colab_type": "code",
        "colab": {
          "base_uri": "https://localhost:8080/",
          "height": 375
        },
        "outputId": "88f21034-42c4-47eb-98db-c01687c4dfa3"
      },
      "source": [
        "if __name__ == \"__main__\":\n",
        "  #training\n",
        "  eq = Text(\"trainText.csv\",\"testText.csv\",\"textModelSVC.sav\")\n",
        "  modelFile = eq.trainModel()\n",
        "  print(modelFile)\n",
        "  #prediction \n",
        "  test_eq = eq.predict()\n"
      ],
      "execution_count": 10,
      "outputs": [
        {
          "output_type": "error",
          "ename": "NameError",
          "evalue": "ignored",
          "traceback": [
            "\u001b[0;31m---------------------------------------------------------------------------\u001b[0m",
            "\u001b[0;31mNameError\u001b[0m                                 Traceback (most recent call last)",
            "\u001b[0;32m<ipython-input-10-ac3cee11ce56>\u001b[0m in \u001b[0;36m<module>\u001b[0;34m()\u001b[0m\n\u001b[1;32m      2\u001b[0m   \u001b[0;31m#training\u001b[0m\u001b[0;34m\u001b[0m\u001b[0;34m\u001b[0m\u001b[0;34m\u001b[0m\u001b[0m\n\u001b[1;32m      3\u001b[0m   \u001b[0meq\u001b[0m \u001b[0;34m=\u001b[0m \u001b[0mText\u001b[0m\u001b[0;34m(\u001b[0m\u001b[0;34m\"trainText.csv\"\u001b[0m\u001b[0;34m,\u001b[0m\u001b[0;34m\"testText.csv\"\u001b[0m\u001b[0;34m,\u001b[0m\u001b[0;34m\"textModelSVC.sav\"\u001b[0m\u001b[0;34m)\u001b[0m\u001b[0;34m\u001b[0m\u001b[0;34m\u001b[0m\u001b[0m\n\u001b[0;32m----> 4\u001b[0;31m   \u001b[0mmodelFile\u001b[0m \u001b[0;34m=\u001b[0m \u001b[0meq\u001b[0m\u001b[0;34m.\u001b[0m\u001b[0mtrainModel\u001b[0m\u001b[0;34m(\u001b[0m\u001b[0;34m)\u001b[0m\u001b[0;34m\u001b[0m\u001b[0;34m\u001b[0m\u001b[0m\n\u001b[0m\u001b[1;32m      5\u001b[0m   \u001b[0mprint\u001b[0m\u001b[0;34m(\u001b[0m\u001b[0mmodelFile\u001b[0m\u001b[0;34m)\u001b[0m\u001b[0;34m\u001b[0m\u001b[0;34m\u001b[0m\u001b[0m\n\u001b[1;32m      6\u001b[0m   \u001b[0;31m#prediction\u001b[0m\u001b[0;34m\u001b[0m\u001b[0;34m\u001b[0m\u001b[0;34m\u001b[0m\u001b[0m\n",
            "\u001b[0;32m<ipython-input-9-a24be45ead06>\u001b[0m in \u001b[0;36mtrainModel\u001b[0;34m(self)\u001b[0m\n\u001b[1;32m     98\u001b[0m       \u001b[0ma\u001b[0m \u001b[0mstring\u001b[0m \u001b[0mcomting\u001b[0m \u001b[0msaved\u001b[0m \u001b[0mmodel\u001b[0m \u001b[0mof\u001b[0m \u001b[0mform\u001b[0m \u001b[0;34m.\u001b[0m\u001b[0msav\u001b[0m\u001b[0;34m\u001b[0m\u001b[0;34m\u001b[0m\u001b[0m\n\u001b[1;32m     99\u001b[0m     \"\"\"\n\u001b[0;32m--> 100\u001b[0;31m     \u001b[0mX_train\u001b[0m\u001b[0;34m,\u001b[0m\u001b[0my_train\u001b[0m\u001b[0;34m,\u001b[0m\u001b[0mx_test\u001b[0m\u001b[0;34m,\u001b[0m \u001b[0my_test\u001b[0m \u001b[0;34m=\u001b[0m \u001b[0mself\u001b[0m\u001b[0;34m.\u001b[0m\u001b[0mprepDataTrain\u001b[0m\u001b[0;34m(\u001b[0m\u001b[0;34m)\u001b[0m\u001b[0;34m\u001b[0m\u001b[0;34m\u001b[0m\u001b[0m\n\u001b[0m\u001b[1;32m    101\u001b[0m     \u001b[0mclf\u001b[0m \u001b[0;34m=\u001b[0m \u001b[0mSVC\u001b[0m\u001b[0;34m(\u001b[0m\u001b[0mkernel\u001b[0m \u001b[0;34m=\u001b[0m \u001b[0;34m\"linear\"\u001b[0m\u001b[0;34m,\u001b[0m\u001b[0mC\u001b[0m\u001b[0;34m=\u001b[0m\u001b[0;36m1\u001b[0m\u001b[0;34m,\u001b[0m \u001b[0mdegree\u001b[0m \u001b[0;34m=\u001b[0m \u001b[0;36m2\u001b[0m\u001b[0;34m,\u001b[0m \u001b[0mgamma\u001b[0m\u001b[0;34m=\u001b[0m\u001b[0;36m0.001\u001b[0m\u001b[0;34m,\u001b[0m\u001b[0mrandom_state\u001b[0m\u001b[0;34m=\u001b[0m\u001b[0;36m0\u001b[0m\u001b[0;34m)\u001b[0m\u001b[0;34m\u001b[0m\u001b[0;34m\u001b[0m\u001b[0m\n\u001b[1;32m    102\u001b[0m     \u001b[0mclf\u001b[0m\u001b[0;34m.\u001b[0m\u001b[0mfit\u001b[0m\u001b[0;34m(\u001b[0m\u001b[0mX_train\u001b[0m\u001b[0;34m,\u001b[0m\u001b[0my_train\u001b[0m\u001b[0;34m)\u001b[0m\u001b[0;34m\u001b[0m\u001b[0;34m\u001b[0m\u001b[0m\n",
            "\u001b[0;32m<ipython-input-9-a24be45ead06>\u001b[0m in \u001b[0;36mprepDataTrain\u001b[0;34m(self)\u001b[0m\n\u001b[1;32m     87\u001b[0m       \u001b[0mx_train\u001b[0m\u001b[0;34m,\u001b[0m \u001b[0my_train\u001b[0m \u001b[0;32mis\u001b[0m \u001b[0mthe\u001b[0m \u001b[0mtrain\u001b[0m \u001b[0mdata\u001b[0m \u001b[0mprepared\u001b[0m\u001b[0;34m\u001b[0m\u001b[0;34m\u001b[0m\u001b[0m\n\u001b[1;32m     88\u001b[0m     \"\"\"\n\u001b[0;32m---> 89\u001b[0;31m     \u001b[0mtargetLabels\u001b[0m\u001b[0;34m,\u001b[0m \u001b[0mprocessedDf\u001b[0m \u001b[0;34m=\u001b[0m \u001b[0mself\u001b[0m\u001b[0;34m.\u001b[0m\u001b[0mpreProcessing\u001b[0m\u001b[0;34m(\u001b[0m\u001b[0mself\u001b[0m\u001b[0;34m.\u001b[0m\u001b[0mtrainData\u001b[0m\u001b[0;34m)\u001b[0m\u001b[0;34m\u001b[0m\u001b[0;34m\u001b[0m\u001b[0m\n\u001b[0m\u001b[1;32m     90\u001b[0m     \u001b[0mx_train_orig\u001b[0m\u001b[0;34m,\u001b[0m \u001b[0mx_test\u001b[0m\u001b[0;34m,\u001b[0m \u001b[0my_train_orig\u001b[0m\u001b[0;34m,\u001b[0m \u001b[0my_test\u001b[0m \u001b[0;34m=\u001b[0m \u001b[0mtrain_test_split\u001b[0m\u001b[0;34m(\u001b[0m\u001b[0mprocessedDf\u001b[0m\u001b[0;34m,\u001b[0m\u001b[0mtargetLabels\u001b[0m\u001b[0;34m,\u001b[0m \u001b[0mtest_size\u001b[0m\u001b[0;34m=\u001b[0m\u001b[0;36m0.15\u001b[0m\u001b[0;34m,\u001b[0m \u001b[0mshuffle\u001b[0m\u001b[0;34m=\u001b[0m\u001b[0;32mTrue\u001b[0m\u001b[0;34m)\u001b[0m\u001b[0;34m\u001b[0m\u001b[0;34m\u001b[0m\u001b[0m\n\u001b[1;32m     91\u001b[0m     \u001b[0mx_train\u001b[0m\u001b[0;34m,\u001b[0m \u001b[0my_train\u001b[0m \u001b[0;34m=\u001b[0m \u001b[0mSMOTE\u001b[0m\u001b[0;34m(\u001b[0m\u001b[0msampling_strategy\u001b[0m\u001b[0;34m=\u001b[0m\u001b[0;34m'minority'\u001b[0m\u001b[0;34m)\u001b[0m\u001b[0;34m.\u001b[0m\u001b[0mfit_resample\u001b[0m\u001b[0;34m(\u001b[0m\u001b[0mx_train_orig\u001b[0m\u001b[0;34m,\u001b[0m \u001b[0my_train_orig\u001b[0m\u001b[0;34m)\u001b[0m\u001b[0;34m\u001b[0m\u001b[0;34m\u001b[0m\u001b[0m\n",
            "\u001b[0;32m<ipython-input-9-a24be45ead06>\u001b[0m in \u001b[0;36mpreProcessing\u001b[0;34m(self, inFile)\u001b[0m\n\u001b[1;32m     19\u001b[0m     \"\"\"\n\u001b[1;32m     20\u001b[0m     \u001b[0mlabels_f\u001b[0m \u001b[0;34m=\u001b[0m \u001b[0;34m'trainText.csv'\u001b[0m\u001b[0;34m\u001b[0m\u001b[0;34m\u001b[0m\u001b[0m\n\u001b[0;32m---> 21\u001b[0;31m     \u001b[0mlabels_df\u001b[0m \u001b[0;34m=\u001b[0m \u001b[0mpd\u001b[0m\u001b[0;34m.\u001b[0m\u001b[0mread_csv\u001b[0m\u001b[0;34m(\u001b[0m\u001b[0mlabels_f\u001b[0m\u001b[0;34m)\u001b[0m\u001b[0;34m\u001b[0m\u001b[0;34m\u001b[0m\u001b[0m\n\u001b[0m\u001b[1;32m     22\u001b[0m     \u001b[0;31m#dropping the columns unrealted to the text model\u001b[0m\u001b[0;34m\u001b[0m\u001b[0;34m\u001b[0m\u001b[0;34m\u001b[0m\u001b[0m\n\u001b[1;32m     23\u001b[0m     \u001b[0mlabels_df\u001b[0m \u001b[0;34m=\u001b[0m \u001b[0mlabels_df\u001b[0m\u001b[0;34m.\u001b[0m\u001b[0mdrop\u001b[0m\u001b[0;34m(\u001b[0m\u001b[0mcolumns\u001b[0m\u001b[0;34m=\u001b[0m\u001b[0;34m[\u001b[0m\u001b[0;34m\"date\"\u001b[0m\u001b[0;34m,\u001b[0m \u001b[0;34m\"cough_filename\"\u001b[0m\u001b[0;34m,\u001b[0m \u001b[0;34m'Unnamed: 8'\u001b[0m\u001b[0;34m]\u001b[0m\u001b[0;34m)\u001b[0m\u001b[0;34m\u001b[0m\u001b[0;34m\u001b[0m\u001b[0m\n",
            "\u001b[0;31mNameError\u001b[0m: name 'pd' is not defined"
          ]
        }
      ]
    },
    {
      "cell_type": "markdown",
      "metadata": {
        "id": "967bW145ukP9",
        "colab_type": "text"
      },
      "source": [
        "# Ensemble"
      ]
    },
    {
      "cell_type": "code",
      "metadata": {
        "id": "uoWMUIuOuoGb",
        "colab_type": "code",
        "colab": {
          "base_uri": "https://localhost:8080/",
          "height": 544
        },
        "outputId": "b70c5404-321c-4dd6-bb92-40ee4128f747"
      },
      "source": [
        "if __name__ == \"__main__\":\n",
        "  test_eq = predText(\"testText.csv\",\"textModelSVC.sav\")\n",
        "  ans = test_eq.predict()"
      ],
      "execution_count": null,
      "outputs": [
        {
          "output_type": "stream",
          "text": [
            "[0 1 0 0 0 1 1 1 1 1 1 1 1 1 1 1 1 1 1 1 1 1 1 1 1 1 1 1 1 1 1 1 1 1 1 1 1\n",
            " 1 1 1 1 1 1 1 1 1 1 1 1 1 1 1 1 1 1 1 1 1 1 1 1 1 1 1 1 0 0 0 0 0 0 0 0 0\n",
            " 0 0 0 0 0 0 0 0 0 0 0 0 0 0 0 0 0 0 0 0 0 0 0 0 0 0 0 0 0 0 0 0 0 0 0 0 0\n",
            " 0 0 0 0 0 0 0 0 0 0 0 0 0 0 0 0 0 0 0 0 0 0 0 0 0 0 0 0 0 0 0 0 0 0 0 0 0\n",
            " 0 0 0 0 0 0 0 0 0 0 0 0 0 0 0 0 0 0 0 0 0 0 0 0 0 0 0 0 0 0 0 0 0 0 0 0 0\n",
            " 0 0 0 0 0 0 0 0 0 0 0 0 0 0 0 0 0 0 0 0 0 0 0 0 0 0 0 0 0 0 0 0 0 0 0 0 0\n",
            " 0 0 0 0 0 0 0 0 0 0 0 0 0 0 0 0 0 0 0 0 0 0 0 0 0 0 0 0 0 0 0 0 0 0 0 0 0\n",
            " 0 0 0 0 0 0 0 0 0 0 0 0 0 0 0 0 0 0 0 0 0 0 0 0 0 0 0 0 0 0 0 0 0 0 0 0 0\n",
            " 0 0 0 0 0 0 0 0 0 0 0 0 0 0 0 0 0 0 0 0 0 0 0 0 0 0 0 0 0 0 0 0 0 0 0 0 0\n",
            " 0 0 0 0 0 0 0 0 0 0 0 0 0 0 0 0 0 0 0 0 0 0 0 0 0 0 0 0 0 0 0 0 0 0 0 0 0\n",
            " 0 0 0 0 0 0 0 0 0 0 0 0 0 0 0 0 0 0 0 0 0 0 0 0 0 0 0 0 0 0 0 0 0 0 0 0 0\n",
            " 0 0 0 0 0 0 0 0 0 0 0 0 0 0 0 0 0 0 0 0 0 0 0 0 0 0 0 0 0 0 0 0 0 0 0 0 0\n",
            " 0 0 0 0 0 0 0 0 0 0 0 0 0 0 0 0 0 0 0 0 0 0 0 0 0 0 0 0 0 0 0 0 0 0 0 0 0\n",
            " 0 0 0 0 0 0 0 0 0 0 0 0 0 0 0 0 0 0 0 0 0 0 0 0 0 0 0 0 0 0 0 0 0 0 0 0 0\n",
            " 0 0 0 0 0 0 0 0 0 1 1 1 1 1 1 1 1 1 1 1 1 1 1 1 1 1 1 1 1 1 1 1 1 1 1 1 1\n",
            " 1 1 1 1 1 1 1 1 1 1 1 1 1 1 1 1 1 1 1 1 1 1 1 1 1 1 1 1 1 1 1 1 1 1 1 1 1\n",
            " 1 1 1 1 1 1 1 1 1 1 1 1 1 1 1 1 1 1 1 1 1 1 1 1]\n",
            "Accuracy on test dataset :  0.810064935064935\n",
            "Confusion matrix :\n",
            " [[460 111]\n",
            " [  6  39]]\n",
            "Classification report \n",
            "               precision    recall  f1-score   support\n",
            "\n",
            "           0       0.99      0.81      0.89       571\n",
            "           1       0.26      0.87      0.40        45\n",
            "\n",
            "    accuracy                           0.81       616\n",
            "   macro avg       0.62      0.84      0.64       616\n",
            "weighted avg       0.93      0.81      0.85       616\n",
            "\n"
          ],
          "name": "stdout"
        }
      ]
    }
  ]
}
